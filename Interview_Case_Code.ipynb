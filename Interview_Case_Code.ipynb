{
 "cells": [
  {
   "cell_type": "code",
   "execution_count": null,
   "metadata": {
    "application/vnd.databricks.v1+cell": {
     "inputWidgets": {},
     "nuid": "55b0f3d8-4dd3-43ba-823d-e7db6368f5a6",
     "showTitle": false,
     "title": ""
    }
   },
   "outputs": [
    {
     "data": {
      "text/html": [
       "<style scoped>\n",
       "  .ansiout {\n",
       "    display: block;\n",
       "    unicode-bidi: embed;\n",
       "    white-space: pre-wrap;\n",
       "    word-wrap: break-word;\n",
       "    word-break: break-all;\n",
       "    font-family: \"Source Code Pro\", \"Menlo\", monospace;;\n",
       "    font-size: 13px;\n",
       "    color: #555;\n",
       "    margin-left: 4px;\n",
       "    line-height: 19px;\n",
       "  }\n",
       "</style>\n",
       "<div class=\"ansiout\">Requirement already satisfied: xgboost in /databricks/python3/lib/python3.8/site-packages (1.6.0)\r\n",
       "Requirement already satisfied: numpy in /databricks/python3/lib/python3.8/site-packages (from xgboost) (1.21.4)\r\n",
       "Requirement already satisfied: scipy in /databricks/python3/lib/python3.8/site-packages (from xgboost) (1.7.3)\r\n",
       "<span class=\"ansi-yellow-fg\">WARNING: You are using pip version 22.0.3; however, version 22.0.4 is available.\r\n",
       "You should consider upgrading via the &#39;/databricks/python3/bin/python3.8 -m pip install --upgrade pip&#39; command.</span><span class=\"ansi-yellow-fg\">\r\n",
       "</span>Requirement already satisfied: sklearn in /databricks/python3/lib/python3.8/site-packages (0.0)\r\n",
       "Requirement already satisfied: scikit-learn in /databricks/python3/lib/python3.8/site-packages (from sklearn) (1.0.2)\r\n",
       "Requirement already satisfied: numpy&gt;=1.14.6 in /databricks/python3/lib/python3.8/site-packages (from scikit-learn-&gt;sklearn) (1.21.4)\r\n",
       "Requirement already satisfied: threadpoolctl&gt;=2.0.0 in /databricks/python3/lib/python3.8/site-packages (from scikit-learn-&gt;sklearn) (3.1.0)\r\n",
       "Requirement already satisfied: joblib&gt;=0.11 in /databricks/python3/lib/python3.8/site-packages (from scikit-learn-&gt;sklearn) (1.1.0)\r\n",
       "Requirement already satisfied: scipy&gt;=1.1.0 in /databricks/python3/lib/python3.8/site-packages (from scikit-learn-&gt;sklearn) (1.7.3)\r\n",
       "<span class=\"ansi-yellow-fg\">WARNING: You are using pip version 22.0.3; however, version 22.0.4 is available.\r\n",
       "You should consider upgrading via the &#39;/databricks/python3/bin/python3.8 -m pip install --upgrade pip&#39; command.</span><span class=\"ansi-yellow-fg\">\r\n",
       "</span></div>"
      ]
     },
     "metadata": {
      "application/vnd.databricks.v1+output": {
       "addedWidgets": {},
       "arguments": {},
       "data": "<div class=\"ansiout\">Requirement already satisfied: xgboost in /databricks/python3/lib/python3.8/site-packages (1.6.0)\r\nRequirement already satisfied: numpy in /databricks/python3/lib/python3.8/site-packages (from xgboost) (1.21.4)\r\nRequirement already satisfied: scipy in /databricks/python3/lib/python3.8/site-packages (from xgboost) (1.7.3)\r\n<span class=\"ansi-yellow-fg\">WARNING: You are using pip version 22.0.3; however, version 22.0.4 is available.\r\nYou should consider upgrading via the &#39;/databricks/python3/bin/python3.8 -m pip install --upgrade pip&#39; command.</span><span class=\"ansi-yellow-fg\">\r\n</span>Requirement already satisfied: sklearn in /databricks/python3/lib/python3.8/site-packages (0.0)\r\nRequirement already satisfied: scikit-learn in /databricks/python3/lib/python3.8/site-packages (from sklearn) (1.0.2)\r\nRequirement already satisfied: numpy&gt;=1.14.6 in /databricks/python3/lib/python3.8/site-packages (from scikit-learn-&gt;sklearn) (1.21.4)\r\nRequirement already satisfied: threadpoolctl&gt;=2.0.0 in /databricks/python3/lib/python3.8/site-packages (from scikit-learn-&gt;sklearn) (3.1.0)\r\nRequirement already satisfied: joblib&gt;=0.11 in /databricks/python3/lib/python3.8/site-packages (from scikit-learn-&gt;sklearn) (1.1.0)\r\nRequirement already satisfied: scipy&gt;=1.1.0 in /databricks/python3/lib/python3.8/site-packages (from scikit-learn-&gt;sklearn) (1.7.3)\r\n<span class=\"ansi-yellow-fg\">WARNING: You are using pip version 22.0.3; however, version 22.0.4 is available.\r\nYou should consider upgrading via the &#39;/databricks/python3/bin/python3.8 -m pip install --upgrade pip&#39; command.</span><span class=\"ansi-yellow-fg\">\r\n</span></div>",
       "datasetInfos": [],
       "metadata": {},
       "removedWidgets": [],
       "type": "html"
      }
     },
     "output_type": "display_data"
    }
   ],
   "source": [
    "!pip install xgboost\n",
    "!pip install scikit-learn\n",
    "#!pip install sklearn"
   ]
  },
  {
   "cell_type": "code",
   "execution_count": null,
   "metadata": {
    "application/vnd.databricks.v1+cell": {
     "inputWidgets": {},
     "nuid": "5909b325-4e37-4d15-9326-d2acc4d95e96",
     "showTitle": false,
     "title": ""
    }
   },
   "outputs": [
    {
     "data": {
      "text/html": [
       "<style scoped>\n",
       "  .ansiout {\n",
       "    display: block;\n",
       "    unicode-bidi: embed;\n",
       "    white-space: pre-wrap;\n",
       "    word-wrap: break-word;\n",
       "    word-break: break-all;\n",
       "    font-family: \"Source Code Pro\", \"Menlo\", monospace;;\n",
       "    font-size: 13px;\n",
       "    color: #555;\n",
       "    margin-left: 4px;\n",
       "    line-height: 19px;\n",
       "  }\n",
       "</style>\n",
       "<div class=\"ansiout\"></div>"
      ]
     },
     "metadata": {
      "application/vnd.databricks.v1+output": {
       "addedWidgets": {},
       "arguments": {},
       "data": "<div class=\"ansiout\"></div>",
       "datasetInfos": [],
       "metadata": {},
       "removedWidgets": [],
       "type": "html"
      }
     },
     "output_type": "display_data"
    }
   ],
   "source": [
    "import pandas as pd\n",
    "import numpy as np\n",
    "import xgboost as xgb\n",
    "from sklearn.model_selection import train_test_split\n",
    "from sklearn.metrics import confusion_matrix, roc_curve, roc_auc_score, f1_score, precision_recall_curve\n",
    "from sklearn.model_selection import GridSearchCV\n",
    "import matplotlib.pyplot as plt\n",
    "import itertools\n",
    "import warnings\n",
    "warnings.filterwarnings(\"ignore\")\n",
    "\n",
    "def plot_confusion_matrix(cm, classes,\n",
    "                          normalize=False,\n",
    "                          title='Confusion matrix',\n",
    "                          cmap=plt.cm.Blues):\n",
    "    \"\"\"\n",
    "    This function prints and plots the confusion matrix.\n",
    "    Normalization can be applied by setting `normalize=True`.\n",
    "    \"\"\"\n",
    "    plt.imshow(cm, interpolation='nearest', cmap=cmap)\n",
    "    plt.title(title)\n",
    "    plt.colorbar()\n",
    "    tick_marks = np.arange(len(classes))\n",
    "    plt.xticks(tick_marks, classes, rotation=45)\n",
    "    plt.yticks(tick_marks, classes)\n",
    "\n",
    "    if normalize:\n",
    "        cm = cm.astype('float') / cm.sum(axis=1)[:, np.newaxis]\n",
    "    thresh = cm.max() / 2.\n",
    "    for i, j in itertools.product(range(cm.shape[0]), range(cm.shape[1])):\n",
    "        plt.text(j, i, cm[i, j],\n",
    "                 horizontalalignment=\"center\",\n",
    "                 color=\"white\" if cm[i, j] > thresh else \"black\")\n",
    "\n",
    "    plt.tight_layout()\n",
    "    plt.ylabel('True label')\n",
    "    plt.xlabel('Predicted label')\n",
    "    plt.show()\n",
    "\n",
    "def show_data(cm, print_res = 0):\n",
    "    tp = cm[1,1]\n",
    "    fn = cm[1,0]\n",
    "    fp = cm[0,1]\n",
    "    tn = cm[0,0]\n",
    "    if print_res == 1:\n",
    "        print('Precision =     {:.3f}'.format(tp/(tp+fp)))\n",
    "        print('Recall (TPR) =  {:.3f}'.format(tp/(tp+fn)))\n",
    "        print('Fallout (FPR) = {:.3e}'.format(fp/(fp+tn)))\n",
    "    return tp/(tp+fp), tp/(tp+fn), fp/(fp+tn)"
   ]
  },
  {
   "cell_type": "code",
   "execution_count": null,
   "metadata": {
    "application/vnd.databricks.v1+cell": {
     "inputWidgets": {},
     "nuid": "324ac371-c8eb-4cac-949f-6e2825c368ed",
     "showTitle": false,
     "title": ""
    }
   },
   "outputs": [
    {
     "data": {
      "text/html": [
       "<style scoped>\n",
       "  .ansiout {\n",
       "    display: block;\n",
       "    unicode-bidi: embed;\n",
       "    white-space: pre-wrap;\n",
       "    word-wrap: break-word;\n",
       "    word-break: break-all;\n",
       "    font-family: \"Source Code Pro\", \"Menlo\", monospace;;\n",
       "    font-size: 13px;\n",
       "    color: #555;\n",
       "    margin-left: 4px;\n",
       "    line-height: 19px;\n",
       "  }\n",
       "</style>\n",
       "<div class=\"ansiout\">(14708, 10)\n",
       "Out[4]: </div>"
      ]
     },
     "metadata": {
      "application/vnd.databricks.v1+output": {
       "addedWidgets": {},
       "arguments": {},
       "data": "<div class=\"ansiout\">(14708, 10)\nOut[4]: </div>",
       "datasetInfos": [],
       "metadata": {},
       "removedWidgets": [],
       "type": "html"
      }
     },
     "output_type": "display_data"
    },
    {
     "data": {
      "text/html": [
       "<div>\n",
       "<style scoped>\n",
       "    .dataframe tbody tr th:only-of-type {\n",
       "        vertical-align: middle;\n",
       "    }\n",
       "\n",
       "    .dataframe tbody tr th {\n",
       "        vertical-align: top;\n",
       "    }\n",
       "\n",
       "    .dataframe thead th {\n",
       "        text-align: right;\n",
       "    }\n",
       "</style>\n",
       "<table border=\"1\" class=\"dataframe\">\n",
       "  <thead>\n",
       "    <tr style=\"text-align: right;\">\n",
       "      <th></th>\n",
       "      <th>Class</th>\n",
       "      <th>Time</th>\n",
       "      <th>Amount</th>\n",
       "      <th>feature_1</th>\n",
       "      <th>feature_2</th>\n",
       "      <th>feature_3</th>\n",
       "      <th>feature_4</th>\n",
       "      <th>feature_5</th>\n",
       "      <th>feature_6</th>\n",
       "      <th>feature_7</th>\n",
       "    </tr>\n",
       "  </thead>\n",
       "  <tbody>\n",
       "    <tr>\n",
       "      <th>0</th>\n",
       "      <td>0</td>\n",
       "      <td>162183.0</td>\n",
       "      <td>2.99</td>\n",
       "      <td>0.469860</td>\n",
       "      <td>-0.664254</td>\n",
       "      <td>0.160589</td>\n",
       "      <td>0.157691</td>\n",
       "      <td>0.818296</td>\n",
       "      <td>-0.471390</td>\n",
       "      <td>0.741141</td>\n",
       "    </tr>\n",
       "    <tr>\n",
       "      <th>1</th>\n",
       "      <td>0</td>\n",
       "      <td>120967.0</td>\n",
       "      <td>1.98</td>\n",
       "      <td>-0.623472</td>\n",
       "      <td>0.081326</td>\n",
       "      <td>0.543172</td>\n",
       "      <td>0.109356</td>\n",
       "      <td>1.248131</td>\n",
       "      <td>NaN</td>\n",
       "      <td>-0.838932</td>\n",
       "    </tr>\n",
       "    <tr>\n",
       "      <th>2</th>\n",
       "      <td>0</td>\n",
       "      <td>26484.0</td>\n",
       "      <td>1937.66</td>\n",
       "      <td>1.457844</td>\n",
       "      <td>-0.899347</td>\n",
       "      <td>-6.059393</td>\n",
       "      <td>-1.784000</td>\n",
       "      <td>0.484257</td>\n",
       "      <td>-4.171672</td>\n",
       "      <td>1.195815</td>\n",
       "    </tr>\n",
       "    <tr>\n",
       "      <th>3</th>\n",
       "      <td>0</td>\n",
       "      <td>65751.0</td>\n",
       "      <td>320.05</td>\n",
       "      <td>-0.401365</td>\n",
       "      <td>-0.282106</td>\n",
       "      <td>-0.583587</td>\n",
       "      <td>1.345463</td>\n",
       "      <td>-1.038179</td>\n",
       "      <td>0.252497</td>\n",
       "      <td>-0.761357</td>\n",
       "    </tr>\n",
       "    <tr>\n",
       "      <th>4</th>\n",
       "      <td>0</td>\n",
       "      <td>137025.0</td>\n",
       "      <td>11.50</td>\n",
       "      <td>0.481656</td>\n",
       "      <td>-1.568433</td>\n",
       "      <td>3.699527</td>\n",
       "      <td>-0.296621</td>\n",
       "      <td>0.679977</td>\n",
       "      <td>-0.455964</td>\n",
       "      <td>0.534602</td>\n",
       "    </tr>\n",
       "  </tbody>\n",
       "</table>\n",
       "</div>"
      ]
     },
     "metadata": {
      "application/vnd.databricks.v1+output": {
       "addedWidgets": {},
       "arguments": {},
       "data": "<div>\n<style scoped>\n    .dataframe tbody tr th:only-of-type {\n        vertical-align: middle;\n    }\n\n    .dataframe tbody tr th {\n        vertical-align: top;\n    }\n\n    .dataframe thead th {\n        text-align: right;\n    }\n</style>\n<table border=\"1\" class=\"dataframe\">\n  <thead>\n    <tr style=\"text-align: right;\">\n      <th></th>\n      <th>Class</th>\n      <th>Time</th>\n      <th>Amount</th>\n      <th>feature_1</th>\n      <th>feature_2</th>\n      <th>feature_3</th>\n      <th>feature_4</th>\n      <th>feature_5</th>\n      <th>feature_6</th>\n      <th>feature_7</th>\n    </tr>\n  </thead>\n  <tbody>\n    <tr>\n      <th>0</th>\n      <td>0</td>\n      <td>162183.0</td>\n      <td>2.99</td>\n      <td>0.469860</td>\n      <td>-0.664254</td>\n      <td>0.160589</td>\n      <td>0.157691</td>\n      <td>0.818296</td>\n      <td>-0.471390</td>\n      <td>0.741141</td>\n    </tr>\n    <tr>\n      <th>1</th>\n      <td>0</td>\n      <td>120967.0</td>\n      <td>1.98</td>\n      <td>-0.623472</td>\n      <td>0.081326</td>\n      <td>0.543172</td>\n      <td>0.109356</td>\n      <td>1.248131</td>\n      <td>NaN</td>\n      <td>-0.838932</td>\n    </tr>\n    <tr>\n      <th>2</th>\n      <td>0</td>\n      <td>26484.0</td>\n      <td>1937.66</td>\n      <td>1.457844</td>\n      <td>-0.899347</td>\n      <td>-6.059393</td>\n      <td>-1.784000</td>\n      <td>0.484257</td>\n      <td>-4.171672</td>\n      <td>1.195815</td>\n    </tr>\n    <tr>\n      <th>3</th>\n      <td>0</td>\n      <td>65751.0</td>\n      <td>320.05</td>\n      <td>-0.401365</td>\n      <td>-0.282106</td>\n      <td>-0.583587</td>\n      <td>1.345463</td>\n      <td>-1.038179</td>\n      <td>0.252497</td>\n      <td>-0.761357</td>\n    </tr>\n    <tr>\n      <th>4</th>\n      <td>0</td>\n      <td>137025.0</td>\n      <td>11.50</td>\n      <td>0.481656</td>\n      <td>-1.568433</td>\n      <td>3.699527</td>\n      <td>-0.296621</td>\n      <td>0.679977</td>\n      <td>-0.455964</td>\n      <td>0.534602</td>\n    </tr>\n  </tbody>\n</table>\n</div>",
       "datasetInfos": [],
       "metadata": {},
       "removedWidgets": [],
       "textData": null,
       "type": "htmlSandbox"
      }
     },
     "output_type": "display_data"
    }
   ],
   "source": [
    "# Read Files and Column Explantion\n",
    "# Class: Model target, 1 means it's a credit card fraud, otherwise 0\n",
    "# Time: Seconds elapsed between each transaction and the first transaction in the dataset\n",
    "# Amount: Credit card transaction amount\n",
    "# featuer_1-featuer_7: other model inputs\n",
    "path = '/dbfs/FileStore/qm/shenan/creditcard_interview.csv'\n",
    "df = pd.read_csv(path)\n",
    "print(df.shape)\n",
    "df.head(5)"
   ]
  },
  {
   "cell_type": "code",
   "execution_count": null,
   "metadata": {
    "application/vnd.databricks.v1+cell": {
     "inputWidgets": {},
     "nuid": "76d82a04-a3e5-43c9-b7b9-0ff177f92b3e",
     "showTitle": false,
     "title": ""
    }
   },
   "outputs": [
    {
     "data": {
      "text/html": [
       "<style scoped>\n",
       "  .ansiout {\n",
       "    display: block;\n",
       "    unicode-bidi: embed;\n",
       "    white-space: pre-wrap;\n",
       "    word-wrap: break-word;\n",
       "    word-break: break-all;\n",
       "    font-family: \"Source Code Pro\", \"Menlo\", monospace;;\n",
       "    font-size: 13px;\n",
       "    color: #555;\n",
       "    margin-left: 4px;\n",
       "    line-height: 19px;\n",
       "  }\n",
       "</style>\n",
       "<div class=\"ansiout\">X_train shape: (10295, 7)\n",
       "y_train shape: (10295,)\n",
       "X_test shape: (4413, 7)\n",
       "y_test shape: (4413,)\n",
       "</div>"
      ]
     },
     "metadata": {
      "application/vnd.databricks.v1+output": {
       "addedWidgets": {},
       "arguments": {},
       "data": "<div class=\"ansiout\">X_train shape: (10295, 7)\ny_train shape: (10295,)\nX_test shape: (4413, 7)\ny_test shape: (4413,)\n</div>",
       "datasetInfos": [],
       "metadata": {},
       "removedWidgets": [],
       "type": "html"
      }
     },
     "output_type": "display_data"
    }
   ],
   "source": [
    "# Train Test split\n",
    "# 'feature_6' has missing value and 'feature_7' are not useful in previous analysis. \n",
    "# Therefore they are excluded from the model development \n",
    "X = df[['Time', 'Amount', 'feature_1', 'feature_2', 'feature_3', 'feature_4', 'feature_5']]\n",
    "y = df['Class']\n",
    "X_train, X_test, y_train, y_test = train_test_split(X, y, test_size=0.30, random_state=0)\n",
    "print(f\"X_train shape: {X_train.shape}\")\n",
    "print(f\"y_train shape: {y_train.shape}\")\n",
    "print(f\"X_test shape: {X_test.shape}\")\n",
    "print(f\"y_test shape: {y_test.shape}\")"
   ]
  },
  {
   "cell_type": "code",
   "execution_count": null,
   "metadata": {
    "application/vnd.databricks.v1+cell": {
     "inputWidgets": {},
     "nuid": "5c158ad5-58c2-4c63-bb2f-b96c3b743ab2",
     "showTitle": false,
     "title": ""
    }
   },
   "outputs": [
    {
     "data": {
      "text/html": [
       "<style scoped>\n",
       "  .ansiout {\n",
       "    display: block;\n",
       "    unicode-bidi: embed;\n",
       "    white-space: pre-wrap;\n",
       "    word-wrap: break-word;\n",
       "    word-break: break-all;\n",
       "    font-family: \"Source Code Pro\", \"Menlo\", monospace;;\n",
       "    font-size: 13px;\n",
       "    color: #555;\n",
       "    margin-left: 4px;\n",
       "    line-height: 19px;\n",
       "  }\n",
       "</style>\n",
       "<div class=\"ansiout\">Out[6]: {&#39;learning_rate&#39;: 0.1, &#39;n_estimators&#39;: 500}</div>"
      ]
     },
     "metadata": {
      "application/vnd.databricks.v1+output": {
       "addedWidgets": {},
       "arguments": {},
       "data": "<div class=\"ansiout\">Out[6]: {&#39;learning_rate&#39;: 0.1, &#39;n_estimators&#39;: 500}</div>",
       "datasetInfos": [],
       "metadata": {},
       "removedWidgets": [],
       "type": "html"
      }
     },
     "output_type": "display_data"
    }
   ],
   "source": [
    "# Hyperparameter Tuning\n",
    "cv_params = {'learning_rate': [0.01, 0.05, 0.1], 'n_estimators': [100, 500, 1000]}    # candidate parameter\n",
    "fix_params = {'objective': 'binary:logistic', 'eval_metric':'logloss'}   # other parameters\n",
    "cv = GridSearchCV(xgb.XGBClassifier(**fix_params), cv_params, scoring='roc_auc', cv=3)\n",
    "cv.fit(X_train, y_train)\n",
    "cv.best_params_"
   ]
  },
  {
   "cell_type": "code",
   "execution_count": null,
   "metadata": {
    "application/vnd.databricks.v1+cell": {
     "inputWidgets": {},
     "nuid": "53280e6a-208c-47bd-ba0a-1016c318385e",
     "showTitle": false,
     "title": ""
    }
   },
   "outputs": [
    {
     "data": {
      "text/html": [
       "<style scoped>\n",
       "  .ansiout {\n",
       "    display: block;\n",
       "    unicode-bidi: embed;\n",
       "    white-space: pre-wrap;\n",
       "    word-wrap: break-word;\n",
       "    word-break: break-all;\n",
       "    font-family: \"Source Code Pro\", \"Menlo\", monospace;;\n",
       "    font-size: 13px;\n",
       "    color: #555;\n",
       "    margin-left: 4px;\n",
       "    line-height: 19px;\n",
       "  }\n",
       "</style>\n",
       "<div class=\"ansiout\">Out[7]: XGBClassifier(base_score=0.5, booster=&#39;gbtree&#39;, callbacks=None,\n",
       "              colsample_bylevel=1, colsample_bynode=1, colsample_bytree=1,\n",
       "              early_stopping_rounds=None, enable_categorical=False,\n",
       "              eval_metric=&#39;logloss&#39;, gamma=0, gpu_id=-1,\n",
       "              grow_policy=&#39;depthwise&#39;, importance_type=None,\n",
       "              interaction_constraints=&#39;&#39;, learning_rate=0.1, max_bin=256,\n",
       "              max_cat_to_onehot=4, max_delta_step=0, max_depth=6, max_leaves=0,\n",
       "              min_child_weight=1, missing=nan, monotone_constraints=&#39;()&#39;,\n",
       "              n_estimators=500, n_jobs=0, num_parallel_tree=1, predictor=&#39;auto&#39;,\n",
       "              random_state=0, reg_alpha=0, reg_lambda=1, ...)</div>"
      ]
     },
     "metadata": {
      "application/vnd.databricks.v1+output": {
       "addedWidgets": {},
       "arguments": {},
       "data": "<div class=\"ansiout\">Out[7]: XGBClassifier(base_score=0.5, booster=&#39;gbtree&#39;, callbacks=None,\n              colsample_bylevel=1, colsample_bynode=1, colsample_bytree=1,\n              early_stopping_rounds=None, enable_categorical=False,\n              eval_metric=&#39;logloss&#39;, gamma=0, gpu_id=-1,\n              grow_policy=&#39;depthwise&#39;, importance_type=None,\n              interaction_constraints=&#39;&#39;, learning_rate=0.1, max_bin=256,\n              max_cat_to_onehot=4, max_delta_step=0, max_depth=6, max_leaves=0,\n              min_child_weight=1, missing=nan, monotone_constraints=&#39;()&#39;,\n              n_estimators=500, n_jobs=0, num_parallel_tree=1, predictor=&#39;auto&#39;,\n              random_state=0, reg_alpha=0, reg_lambda=1, ...)</div>",
       "datasetInfos": [],
       "metadata": {},
       "removedWidgets": [],
       "type": "html"
      }
     },
     "output_type": "display_data"
    }
   ],
   "source": [
    "best_params = {'learning_rate':0.1, 'n_estimators':500, 'objective':'binary:logistic', 'eval_metric':'logloss'}\n",
    "model = xgb.XGBClassifier(**best_params)\n",
    "model.fit(X_train, y_train)"
   ]
  },
  {
   "cell_type": "code",
   "execution_count": null,
   "metadata": {
    "application/vnd.databricks.v1+cell": {
     "inputWidgets": {},
     "nuid": "5772a95c-e8d3-486e-b6ff-f3abb21caa17",
     "showTitle": false,
     "title": ""
    }
   },
   "outputs": [
    {
     "data": {
      "image/png": "[encoded data removed]"
     },
     "metadata": {
      "application/vnd.databricks.v1+output": {
       "addedWidgets": {},
       "arguments": {},
       "data": "data:image/png;base64,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",
       "datasetInfos": [],
       "metadata": {
        "imageDimensions": {
         "height": 294,
         "width": 337
        }
       },
       "removedWidgets": [],
       "type": "image"
      },
      "image/png": {
       "height": 294,
       "width": 337
      }
     },
     "output_type": "display_data"
    },
    {
     "data": {
      "text/html": [
       "<style scoped>\n",
       "  .ansiout {\n",
       "    display: block;\n",
       "    unicode-bidi: embed;\n",
       "    white-space: pre-wrap;\n",
       "    word-wrap: break-word;\n",
       "    word-break: break-all;\n",
       "    font-family: \"Source Code Pro\", \"Menlo\", monospace;;\n",
       "    font-size: 13px;\n",
       "    color: #555;\n",
       "    margin-left: 4px;\n",
       "    line-height: 19px;\n",
       "  }\n",
       "</style>\n",
       "<div class=\"ansiout\">Precision =     0.974\n",
       "Recall (TPR) =  0.828\n",
       "Fallout (FPR) = 7.011e-04\n",
       "</div>"
      ]
     },
     "metadata": {
      "application/vnd.databricks.v1+output": {
       "addedWidgets": {},
       "arguments": {},
       "data": "<div class=\"ansiout\">Precision =     0.974\nRecall (TPR) =  0.828\nFallout (FPR) = 7.011e-04\n</div>",
       "datasetInfos": [],
       "metadata": {},
       "removedWidgets": [],
       "type": "html"
      }
     },
     "output_type": "display_data"
    }
   ],
   "source": [
    "# Predict Model and set threshold to 0.5\n",
    "y_pred = model.predict(X_test)\n",
    "thresh = 0.5\n",
    "y_pred[y_pred > thresh] = 1\n",
    "y_pred[y_pred <= thresh] = 0\n",
    "cm = confusion_matrix(y_test, y_pred)\n",
    "plot_confusion_matrix(cm, ['0', '1'], )\n",
    "pr, tpr, fpr = show_data(cm, print_res = 1);"
   ]
  },
  {
   "cell_type": "code",
   "execution_count": null,
   "metadata": {
    "application/vnd.databricks.v1+cell": {
     "inputWidgets": {},
     "nuid": "def9cd64-9974-484f-9995-beb8fd5585f1",
     "showTitle": false,
     "title": ""
    }
   },
   "outputs": [
    {
     "data": {
      "text/html": [
       "<style scoped>\n",
       "  .ansiout {\n",
       "    display: block;\n",
       "    unicode-bidi: embed;\n",
       "    white-space: pre-wrap;\n",
       "    word-wrap: break-word;\n",
       "    word-break: break-all;\n",
       "    font-family: \"Source Code Pro\", \"Menlo\", monospace;;\n",
       "    font-size: 13px;\n",
       "    color: #555;\n",
       "    margin-left: 4px;\n",
       "    line-height: 19px;\n",
       "  }\n",
       "</style>\n",
       "<div class=\"ansiout\"></div>"
      ]
     },
     "metadata": {
      "application/vnd.databricks.v1+output": {
       "addedWidgets": {},
       "arguments": {},
       "data": "<div class=\"ansiout\"></div>",
       "datasetInfos": [],
       "metadata": {},
       "removedWidgets": [],
       "type": "html"
      }
     },
     "output_type": "display_data"
    }
   ],
   "source": [
    "# Save the Model\n",
    "# Please Ignore the path\n",
    "model.save_model('/.../interview_model_object')"
   ]
  },
  {
   "cell_type": "code",
   "execution_count": null,
   "metadata": {
    "application/vnd.databricks.v1+cell": {
     "inputWidgets": {},
     "nuid": "b0762d22-ba95-457c-86a4-bf0c7751e86d",
     "showTitle": false,
     "title": ""
    }
   },
   "outputs": [
    {
     "data": {
      "text/html": [
       "<style scoped>\n",
       "  .ansiout {\n",
       "    display: block;\n",
       "    unicode-bidi: embed;\n",
       "    white-space: pre-wrap;\n",
       "    word-wrap: break-word;\n",
       "    word-break: break-all;\n",
       "    font-family: \"Source Code Pro\", \"Menlo\", monospace;;\n",
       "    font-size: 13px;\n",
       "    color: #555;\n",
       "    margin-left: 4px;\n",
       "    line-height: 19px;\n",
       "  }\n",
       "</style>"
      ]
     },
     "metadata": {
      "application/vnd.databricks.v1+output": {
       "arguments": {},
       "data": "",
       "errorSummary": "",
       "errorTraceType": null,
       "metadata": {},
       "type": "ipynbError"
      }
     },
     "output_type": "display_data"
    }
   ],
   "source": [
    "### Codes to load the model object\n",
    "model_load = xgb.XGBClassifier()\n",
    "model_load.load_model('/.../interview_model_object')\n",
    "y_pred = model_load.predict(X_test)"
   ]
  }
 ],
 "metadata": {
  "application/vnd.databricks.v1+notebook": {
   "dashboards": [],
   "language": "python",
   "notebookMetadata": {
    "pythonIndentUnit": 4
   },
   "notebookName": "Interview Case Code",
   "notebookOrigID": 944167273913284,
   "widgets": {}
  },
  "kernelspec": {
   "display_name": "Python 2",
   "language": "python",
   "name": "python2"
  },
  "language_info": {
   "codemirror_mode": {
    "name": "ipython",
    "version": 2
   },
   "file_extension": ".py",
   "mimetype": "text/x-python",
   "name": "python",
   "nbconvert_exporter": "python",
   "pygments_lexer": "ipython2",
   "version": "2.7.14"
  }
 },
 "nbformat": 4,
 "nbformat_minor": 4
}
